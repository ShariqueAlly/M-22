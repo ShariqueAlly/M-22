{
  "nbformat": 4,
  "nbformat_minor": 0,
  "metadata": {
    "colab": {
      "provenance": []
    },
    "kernelspec": {
      "name": "python3",
      "display_name": "Python 3"
    },
    "language_info": {
      "name": "python"
    }
  },
  "cells": [
    {
      "cell_type": "code",
      "execution_count": null,
      "metadata": {
        "id": "r_sMbHr6Ifls"
      },
      "outputs": [],
      "source": [
        " #Q-1\n",
        " const person = {\n",
        "    name: \"Alice\",\n",
        "    greet: function() {\n",
        "        setTimeout(() => {\n",
        "            console.log(`Hello, my name is ${this.name}`);\n",
        "        }, 1000);\n",
        "    }\n",
        "};\n",
        "\n",
        "person.greet();\n",
        "Hello, my name is Alice\n",
        "\n",
        " ✅ Explanation:\n",
        "\n",
        "The greet method is a traditional function, so when it's called using person.greet(), the value of this inside greet is set to the person object.\n",
        "\n",
        "Inside setTimeout, we used an arrow function () => {}.\n",
        "\n",
        "Arrow functions do not have their own this. Instead, they inherit this from their lexical scope — which is the greet method.\n",
        "\n",
        "Therefore, this.name inside the arrow function is the same as person.name, which is \"Alice\"."
      ]
    },
    {
      "cell_type": "code",
      "source": [
        "#Q-2\n",
        "\n",
        "function multiply(a, b) {\n",
        "    return a * b;\n",
        "}\n",
        "ANS- const multiply = (a, b) => a * b;\n",
        "\n",
        "const obj = {\n",
        "    value: 10,\n",
        "    add: function(num) {\n",
        "        return this.value + num;\n",
        "    }\n",
        "};\n",
        "\n",
        " ANS-const obj = {\n",
        "    value: 10,\n",
        "    add: (num) => {\n",
        "        return this.value + num;\n",
        "    }\n",
        "};\n"
      ],
      "metadata": {
        "id": "XeOTef6tJY7Z"
      },
      "execution_count": null,
      "outputs": []
    },
    {
      "cell_type": "code",
      "source": [
        "#Q-3\n",
        "function fetchData() {\n",
        "    return new Promise((resolve, reject) => {\n",
        "        setTimeout(() => {\n",
        "            let success = Math.random() > 0.5;\n",
        "            success ? resolve(\"Data received\") : reject(\"Error fetching data\");\n",
        "        }, 2000);\n",
        "    });\n",
        "}\n",
        "\n",
        "async function getData() {\n",
        "    try {\n",
        "        const data = await fetchData();\n",
        "        console.log(data);\n",
        "    } catch (error) {\n",
        "        console.error(error);\n",
        "    }\n",
        "}\n",
        "\n",
        "getData();\n"
      ],
      "metadata": {
        "id": "YDSSV04dMpQp"
      },
      "execution_count": null,
      "outputs": []
    },
    {
      "cell_type": "code",
      "source": [
        "#Q-4\n",
        "function fetchUserData() {\n",
        "    return new Promise((resolve) => {\n",
        "        setTimeout(() => {\n",
        "            resolve(\"User data fetched\");\n",
        "        }, 1000);\n",
        "    });\n",
        "}\n",
        "\n",
        "function fetchOrderDetails() {\n",
        "    return new Promise((resolve) => {\n",
        "        setTimeout(() => {\n",
        "            resolve(\"Order details fetched\");\n",
        "        }, 2000);\n",
        "    });\n",
        "}\n",
        "\n",
        "function fetchPaymentStatus() {\n",
        "    return new Promise((resolve) => {\n",
        "        setTimeout(() => {\n",
        "            resolve(\"Payment status fetched\");\n",
        "        }, 3000);\n",
        "    });\n",
        "}\n",
        "\n",
        "async function processOrder() {\n",
        "    const userData = await fetchUserData();\n",
        "    console.log(userData);\n",
        "\n",
        "    const orderDetails = await fetchOrderDetails();\n",
        "    console.log(orderDetails);\n",
        "\n",
        "    const paymentStatus = await fetchPaymentStatus();\n",
        "    console.log(paymentStatus);\n",
        "\n",
        "    console.log(\"Order completed\");\n",
        "}\n",
        "\n",
        "processOrder();\n"
      ],
      "metadata": {
        "id": "egXzqOhaNC-7"
      },
      "execution_count": null,
      "outputs": []
    },
    {
      "cell_type": "code",
      "source": [
        "#Q-5\n",
        "\n",
        " function calculateSquare(input) {\n",
        "    try {\n",
        "        const number = Number(input);\n",
        "        if (isNaN(number)) {\n",
        "            throw new Error(\"Invalid number\");\n",
        "        }\n",
        "        return number * number;\n",
        "    } catch (error) {\n",
        "        return \"Invalid Input\";\n",
        "    }\n",
        "}\n",
        "\n",
        "console.log(calculateSquare(\"5\"));   // 25\n",
        "console.log(calculateSquare(\"abc\")); // \"Invalid Input\"\n"
      ],
      "metadata": {
        "id": "Mhshs914NEux"
      },
      "execution_count": null,
      "outputs": []
    }
  ]
}